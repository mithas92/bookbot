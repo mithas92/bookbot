{
 "cells": [
  {
   "cell_type": "code",
   "execution_count": 2,
   "id": "e9f56da8",
   "metadata": {},
   "outputs": [],
   "source": [
    "test_dict = {}"
   ]
  },
  {
   "cell_type": "code",
   "execution_count": 3,
   "id": "8c2da0f8",
   "metadata": {},
   "outputs": [
    {
     "data": {
      "text/plain": [
       "dict"
      ]
     },
     "execution_count": 3,
     "metadata": {},
     "output_type": "execute_result"
    }
   ],
   "source": [
    "type(test_dict)"
   ]
  },
  {
   "cell_type": "code",
   "execution_count": 5,
   "id": "4c3d08e8",
   "metadata": {},
   "outputs": [],
   "source": [
    "test_dict['a'] =1"
   ]
  },
  {
   "cell_type": "code",
   "execution_count": 6,
   "id": "2d5f896d",
   "metadata": {},
   "outputs": [
    {
     "data": {
      "text/plain": [
       "{'a': 1}"
      ]
     },
     "execution_count": 6,
     "metadata": {},
     "output_type": "execute_result"
    }
   ],
   "source": [
    "test_dict"
   ]
  },
  {
   "cell_type": "code",
   "execution_count": 8,
   "id": "65959979",
   "metadata": {},
   "outputs": [
    {
     "data": {
      "text/plain": [
       "False"
      ]
     },
     "execution_count": 8,
     "metadata": {},
     "output_type": "execute_result"
    }
   ],
   "source": [
    "\"b\" in test_dict"
   ]
  },
  {
   "cell_type": "code",
   "execution_count": 13,
   "id": "39c72afc",
   "metadata": {},
   "outputs": [],
   "source": [
    "from stats import get_book_text\n",
    "\n",
    "book_text = get_book_text(\"books/frankenstein.txt\")\n",
    "book_text = book_text.lower()"
   ]
  },
  {
   "cell_type": "code",
   "execution_count": 14,
   "id": "0a75bf99",
   "metadata": {},
   "outputs": [
    {
     "data": {
      "text/plain": [
       "428088"
      ]
     },
     "execution_count": 14,
     "metadata": {},
     "output_type": "execute_result"
    }
   ],
   "source": [
    "len(book_text)\n"
   ]
  },
  {
   "cell_type": "code",
   "execution_count": 15,
   "id": "d976ef7e",
   "metadata": {},
   "outputs": [],
   "source": [
    "char_dict = {}\n",
    "for c in book_text:\n",
    "    if c in char_dict:\n",
    "        char_dict[c] += 1\n",
    "    else:\n",
    "        char_dict[c] = 1"
   ]
  },
  {
   "cell_type": "code",
   "execution_count": 16,
   "id": "9503d204",
   "metadata": {},
   "outputs": [
    {
     "data": {
      "text/plain": [
       "{'t': 29493,\n",
       " 'h': 19176,\n",
       " 'e': 44538,\n",
       " ' ': 70480,\n",
       " 'p': 5952,\n",
       " 'r': 20079,\n",
       " 'o': 24494,\n",
       " 'j': 497,\n",
       " 'c': 9011,\n",
       " 'g': 5795,\n",
       " 'u': 10111,\n",
       " 'n': 23643,\n",
       " 'b': 4868,\n",
       " 'k': 1661,\n",
       " 'f': 8451,\n",
       " 'a': 25894,\n",
       " 's': 20360,\n",
       " 'i': 23927,\n",
       " ';': 1350,\n",
       " ',': 5962,\n",
       " 'm': 10206,\n",
       " 'd': 16318,\n",
       " '\\n': 7630,\n",
       " 'y': 7756,\n",
       " 'w': 7450,\n",
       " 'l': 12306,\n",
       " 'v': 3737,\n",
       " '.': 3121,\n",
       " '-': 173,\n",
       " ':': 211,\n",
       " '2': 19,\n",
       " '3': 15,\n",
       " '0': 18,\n",
       " '1': 91,\n",
       " '[': 2,\n",
       " '#': 1,\n",
       " '4': 12,\n",
       " '5': 12,\n",
       " ']': 2,\n",
       " '&': 5,\n",
       " '8': 24,\n",
       " '/': 8,\n",
       " '*': 97,\n",
       " '’': 144,\n",
       " 'x': 691,\n",
       " '_': 124,\n",
       " 'q': 325,\n",
       " '?': 208,\n",
       " '—': 123,\n",
       " '6': 9,\n",
       " 'z': 235,\n",
       " '(': 35,\n",
       " ')': 35,\n",
       " '7': 18,\n",
       " 'æ': 28,\n",
       " '!': 201,\n",
       " '“': 506,\n",
       " '”': 316,\n",
       " '9': 9,\n",
       " 'ë': 2,\n",
       " '‘': 43,\n",
       " 'â': 8,\n",
       " 'ê': 7,\n",
       " 'ô': 1,\n",
       " '™': 57,\n",
       " '•': 4,\n",
       " '%': 1,\n",
       " '$': 2}"
      ]
     },
     "execution_count": 16,
     "metadata": {},
     "output_type": "execute_result"
    }
   ],
   "source": [
    "char_dict"
   ]
  },
  {
   "cell_type": "code",
   "execution_count": 4,
   "id": "1b1adb02",
   "metadata": {},
   "outputs": [],
   "source": [
    "from stats import charec_count"
   ]
  },
  {
   "cell_type": "code",
   "execution_count": 5,
   "id": "b577a635",
   "metadata": {},
   "outputs": [],
   "source": [
    "all_chars_dict = charec_count(\"books/frankenstein.txt\")"
   ]
  },
  {
   "cell_type": "code",
   "execution_count": 7,
   "id": "134c9317",
   "metadata": {},
   "outputs": [
    {
     "data": {
      "text/plain": [
       "{'T': 701,\n",
       " 'h': 18832,\n",
       " 'e': 44100,\n",
       " ' ': 70480,\n",
       " 'P': 217,\n",
       " 'r': 19878,\n",
       " 'o': 24275,\n",
       " 'j': 421,\n",
       " 'c': 8814,\n",
       " 't': 28792,\n",
       " 'G': 215,\n",
       " 'u': 10022,\n",
       " 'n': 23446,\n",
       " 'b': 4605,\n",
       " 'g': 5580,\n",
       " 'B': 263,\n",
       " 'k': 1617,\n",
       " 'f': 8226,\n",
       " 'F': 225,\n",
       " 'a': 25421,\n",
       " 's': 19985,\n",
       " 'i': 20734,\n",
       " ';': 1350,\n",
       " 'O': 219,\n",
       " ',': 5962,\n",
       " 'M': 321,\n",
       " 'd': 16158,\n",
       " 'm': 9885,\n",
       " '\\n': 7630,\n",
       " 'y': 7603,\n",
       " 'w': 7184,\n",
       " 'U': 89,\n",
       " 'S': 375,\n",
       " 'p': 5735,\n",
       " 'l': 12145,\n",
       " 'v': 3657,\n",
       " '.': 3121,\n",
       " 'Y': 153,\n",
       " '-': 173,\n",
       " 'L': 161,\n",
       " 'I': 3193,\n",
       " ':': 211,\n",
       " 'A': 473,\n",
       " 'W': 266,\n",
       " 'R': 201,\n",
       " 'N': 197,\n",
       " '2': 19,\n",
       " '3': 15,\n",
       " '0': 18,\n",
       " '1': 91,\n",
       " '[': 2,\n",
       " '#': 1,\n",
       " '4': 12,\n",
       " '5': 12,\n",
       " ']': 2,\n",
       " 'E': 438,\n",
       " 'K': 44,\n",
       " 'H': 344,\n",
       " '&': 5,\n",
       " 'J': 76,\n",
       " '8': 24,\n",
       " 'C': 197,\n",
       " 'D': 160,\n",
       " '/': 8,\n",
       " '*': 97,\n",
       " '’': 144,\n",
       " 'x': 688,\n",
       " 'V': 80,\n",
       " '_': 124,\n",
       " 'Q': 4,\n",
       " 'q': 321,\n",
       " '?': 208,\n",
       " '—': 123,\n",
       " '6': 9,\n",
       " 'z': 231,\n",
       " '(': 35,\n",
       " ')': 35,\n",
       " '7': 18,\n",
       " 'æ': 28,\n",
       " '!': 201,\n",
       " '“': 506,\n",
       " '”': 316,\n",
       " '9': 9,\n",
       " 'ë': 2,\n",
       " '‘': 43,\n",
       " 'Z': 4,\n",
       " 'â': 8,\n",
       " 'ê': 7,\n",
       " 'ô': 1,\n",
       " 'X': 3,\n",
       " '™': 57,\n",
       " '•': 4,\n",
       " '%': 1,\n",
       " '$': 2}"
      ]
     },
     "execution_count": 7,
     "metadata": {},
     "output_type": "execute_result"
    }
   ],
   "source": [
    "all_chars_dict"
   ]
  },
  {
   "cell_type": "code",
   "execution_count": null,
   "id": "b3096990",
   "metadata": {},
   "outputs": [],
   "source": []
  }
 ],
 "metadata": {
  "kernelspec": {
   "display_name": "base",
   "language": "python",
   "name": "python3"
  },
  "language_info": {
   "codemirror_mode": {
    "name": "ipython",
    "version": 3
   },
   "file_extension": ".py",
   "mimetype": "text/x-python",
   "name": "python",
   "nbconvert_exporter": "python",
   "pygments_lexer": "ipython3",
   "version": "3.12.7"
  }
 },
 "nbformat": 4,
 "nbformat_minor": 5
}
