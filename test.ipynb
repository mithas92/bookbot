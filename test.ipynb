{
 "cells": [
  {
   "cell_type": "code",
   "execution_count": 1,
   "id": "e9f56da8",
   "metadata": {},
   "outputs": [],
   "source": [
    "test_dict = {}"
   ]
  },
  {
   "cell_type": "code",
   "execution_count": 2,
   "id": "8c2da0f8",
   "metadata": {},
   "outputs": [
    {
     "data": {
      "text/plain": [
       "dict"
      ]
     },
     "execution_count": 2,
     "metadata": {},
     "output_type": "execute_result"
    }
   ],
   "source": [
    "type(test_dict)"
   ]
  },
  {
   "cell_type": "code",
   "execution_count": 4,
   "id": "4c3d08e8",
   "metadata": {},
   "outputs": [],
   "source": [
    "test_dict['a'] =1"
   ]
  },
  {
   "cell_type": "code",
   "execution_count": 5,
   "id": "2d5f896d",
   "metadata": {},
   "outputs": [
    {
     "data": {
      "text/plain": [
       "{'a': 1}"
      ]
     },
     "execution_count": 5,
     "metadata": {},
     "output_type": "execute_result"
    }
   ],
   "source": [
    "test_dict"
   ]
  },
  {
   "cell_type": "code",
   "execution_count": 6,
   "id": "65959979",
   "metadata": {},
   "outputs": [
    {
     "data": {
      "text/plain": [
       "False"
      ]
     },
     "execution_count": 6,
     "metadata": {},
     "output_type": "execute_result"
    }
   ],
   "source": [
    "\"b\" in test_dict"
   ]
  },
  {
   "cell_type": "code",
   "execution_count": 7,
   "id": "39c72afc",
   "metadata": {},
   "outputs": [],
   "source": [
    "from stats import get_book_text\n",
    "\n",
    "book_text = get_book_text(\"books/frankenstein.txt\")\n",
    "book_text = book_text.lower()"
   ]
  },
  {
   "cell_type": "code",
   "execution_count": 8,
   "id": "0a75bf99",
   "metadata": {},
   "outputs": [
    {
     "data": {
      "text/plain": [
       "428088"
      ]
     },
     "execution_count": 8,
     "metadata": {},
     "output_type": "execute_result"
    }
   ],
   "source": [
    "len(book_text)\n"
   ]
  },
  {
   "cell_type": "code",
   "execution_count": 9,
   "id": "d976ef7e",
   "metadata": {},
   "outputs": [],
   "source": [
    "char_dict = {}\n",
    "for c in book_text:\n",
    "    if c in char_dict:\n",
    "        char_dict[c] += 1\n",
    "    else:\n",
    "        char_dict[c] = 1"
   ]
  },
  {
   "cell_type": "code",
   "execution_count": null,
   "id": "9503d204",
   "metadata": {},
   "outputs": [],
   "source": [
    "char_dict"
   ]
  },
  {
   "cell_type": "code",
   "execution_count": 10,
   "id": "1b1adb02",
   "metadata": {},
   "outputs": [],
   "source": [
    "from stats import charec_count"
   ]
  },
  {
   "cell_type": "code",
   "execution_count": 11,
   "id": "b577a635",
   "metadata": {},
   "outputs": [],
   "source": [
    "all_chars_dict = charec_count(\"books/frankenstein.txt\")"
   ]
  },
  {
   "cell_type": "code",
   "execution_count": 12,
   "id": "134c9317",
   "metadata": {},
   "outputs": [
    {
     "data": {
      "text/plain": [
       "{'t': 29493,\n",
       " 'h': 19176,\n",
       " 'e': 44538,\n",
       " ' ': 70480,\n",
       " 'p': 5952,\n",
       " 'r': 20079,\n",
       " 'o': 24494,\n",
       " 'j': 497,\n",
       " 'c': 9011,\n",
       " 'g': 5795,\n",
       " 'u': 10111,\n",
       " 'n': 23643,\n",
       " 'b': 4868,\n",
       " 'k': 1661,\n",
       " 'f': 8451,\n",
       " 'a': 25894,\n",
       " 's': 20360,\n",
       " 'i': 23927,\n",
       " ';': 1350,\n",
       " ',': 5962,\n",
       " 'm': 10206,\n",
       " 'd': 16318,\n",
       " '\\n': 7630,\n",
       " 'y': 7756,\n",
       " 'w': 7450,\n",
       " 'l': 12306,\n",
       " 'v': 3737,\n",
       " '.': 3121,\n",
       " '-': 173,\n",
       " ':': 211,\n",
       " '2': 19,\n",
       " '3': 15,\n",
       " '0': 18,\n",
       " '1': 91,\n",
       " '[': 2,\n",
       " '#': 1,\n",
       " '4': 12,\n",
       " '5': 12,\n",
       " ']': 2,\n",
       " '&': 5,\n",
       " '8': 24,\n",
       " '/': 8,\n",
       " '*': 97,\n",
       " '’': 144,\n",
       " 'x': 691,\n",
       " '_': 124,\n",
       " 'q': 325,\n",
       " '?': 208,\n",
       " '—': 123,\n",
       " '6': 9,\n",
       " 'z': 235,\n",
       " '(': 35,\n",
       " ')': 35,\n",
       " '7': 18,\n",
       " 'æ': 28,\n",
       " '!': 201,\n",
       " '“': 506,\n",
       " '”': 316,\n",
       " '9': 9,\n",
       " 'ë': 2,\n",
       " '‘': 43,\n",
       " 'â': 8,\n",
       " 'ê': 7,\n",
       " 'ô': 1,\n",
       " '™': 57,\n",
       " '•': 4,\n",
       " '%': 1,\n",
       " '$': 2}"
      ]
     },
     "execution_count": 12,
     "metadata": {},
     "output_type": "execute_result"
    }
   ],
   "source": [
    "all_chars_dict"
   ]
  },
  {
   "cell_type": "code",
   "execution_count": 13,
   "id": "b3096990",
   "metadata": {},
   "outputs": [],
   "source": [
    "all_chars_list = [{key: value}for key, value in all_chars_dict.items()]\n",
    "\n",
    "all_chars_list2 = []\n",
    "for key, value in all_chars_dict.items():\n",
    "    all_chars_list2.append({\"char\": key, \"value\" :value})"
   ]
  },
  {
   "cell_type": "code",
   "execution_count": 14,
   "id": "e35404f7",
   "metadata": {},
   "outputs": [
    {
     "data": {
      "text/plain": [
       "[{'t': 29493},\n",
       " {'h': 19176},\n",
       " {'e': 44538},\n",
       " {' ': 70480},\n",
       " {'p': 5952},\n",
       " {'r': 20079},\n",
       " {'o': 24494},\n",
       " {'j': 497},\n",
       " {'c': 9011},\n",
       " {'g': 5795},\n",
       " {'u': 10111},\n",
       " {'n': 23643},\n",
       " {'b': 4868},\n",
       " {'k': 1661},\n",
       " {'f': 8451},\n",
       " {'a': 25894},\n",
       " {'s': 20360},\n",
       " {'i': 23927},\n",
       " {';': 1350},\n",
       " {',': 5962},\n",
       " {'m': 10206},\n",
       " {'d': 16318},\n",
       " {'\\n': 7630},\n",
       " {'y': 7756},\n",
       " {'w': 7450},\n",
       " {'l': 12306},\n",
       " {'v': 3737},\n",
       " {'.': 3121},\n",
       " {'-': 173},\n",
       " {':': 211},\n",
       " {'2': 19},\n",
       " {'3': 15},\n",
       " {'0': 18},\n",
       " {'1': 91},\n",
       " {'[': 2},\n",
       " {'#': 1},\n",
       " {'4': 12},\n",
       " {'5': 12},\n",
       " {']': 2},\n",
       " {'&': 5},\n",
       " {'8': 24},\n",
       " {'/': 8},\n",
       " {'*': 97},\n",
       " {'’': 144},\n",
       " {'x': 691},\n",
       " {'_': 124},\n",
       " {'q': 325},\n",
       " {'?': 208},\n",
       " {'—': 123},\n",
       " {'6': 9},\n",
       " {'z': 235},\n",
       " {'(': 35},\n",
       " {')': 35},\n",
       " {'7': 18},\n",
       " {'æ': 28},\n",
       " {'!': 201},\n",
       " {'“': 506},\n",
       " {'”': 316},\n",
       " {'9': 9},\n",
       " {'ë': 2},\n",
       " {'‘': 43},\n",
       " {'â': 8},\n",
       " {'ê': 7},\n",
       " {'ô': 1},\n",
       " {'™': 57},\n",
       " {'•': 4},\n",
       " {'%': 1},\n",
       " {'$': 2}]"
      ]
     },
     "execution_count": 14,
     "metadata": {},
     "output_type": "execute_result"
    }
   ],
   "source": [
    "all_chars_list"
   ]
  },
  {
   "cell_type": "code",
   "execution_count": 15,
   "id": "200b814b",
   "metadata": {},
   "outputs": [
    {
     "data": {
      "text/plain": [
       "[{'char': 't', 'value': 29493},\n",
       " {'char': 'h', 'value': 19176},\n",
       " {'char': 'e', 'value': 44538},\n",
       " {'char': ' ', 'value': 70480},\n",
       " {'char': 'p', 'value': 5952},\n",
       " {'char': 'r', 'value': 20079},\n",
       " {'char': 'o', 'value': 24494},\n",
       " {'char': 'j', 'value': 497},\n",
       " {'char': 'c', 'value': 9011},\n",
       " {'char': 'g', 'value': 5795},\n",
       " {'char': 'u', 'value': 10111},\n",
       " {'char': 'n', 'value': 23643},\n",
       " {'char': 'b', 'value': 4868},\n",
       " {'char': 'k', 'value': 1661},\n",
       " {'char': 'f', 'value': 8451},\n",
       " {'char': 'a', 'value': 25894},\n",
       " {'char': 's', 'value': 20360},\n",
       " {'char': 'i', 'value': 23927},\n",
       " {'char': ';', 'value': 1350},\n",
       " {'char': ',', 'value': 5962},\n",
       " {'char': 'm', 'value': 10206},\n",
       " {'char': 'd', 'value': 16318},\n",
       " {'char': '\\n', 'value': 7630},\n",
       " {'char': 'y', 'value': 7756},\n",
       " {'char': 'w', 'value': 7450},\n",
       " {'char': 'l', 'value': 12306},\n",
       " {'char': 'v', 'value': 3737},\n",
       " {'char': '.', 'value': 3121},\n",
       " {'char': '-', 'value': 173},\n",
       " {'char': ':', 'value': 211},\n",
       " {'char': '2', 'value': 19},\n",
       " {'char': '3', 'value': 15},\n",
       " {'char': '0', 'value': 18},\n",
       " {'char': '1', 'value': 91},\n",
       " {'char': '[', 'value': 2},\n",
       " {'char': '#', 'value': 1},\n",
       " {'char': '4', 'value': 12},\n",
       " {'char': '5', 'value': 12},\n",
       " {'char': ']', 'value': 2},\n",
       " {'char': '&', 'value': 5},\n",
       " {'char': '8', 'value': 24},\n",
       " {'char': '/', 'value': 8},\n",
       " {'char': '*', 'value': 97},\n",
       " {'char': '’', 'value': 144},\n",
       " {'char': 'x', 'value': 691},\n",
       " {'char': '_', 'value': 124},\n",
       " {'char': 'q', 'value': 325},\n",
       " {'char': '?', 'value': 208},\n",
       " {'char': '—', 'value': 123},\n",
       " {'char': '6', 'value': 9},\n",
       " {'char': 'z', 'value': 235},\n",
       " {'char': '(', 'value': 35},\n",
       " {'char': ')', 'value': 35},\n",
       " {'char': '7', 'value': 18},\n",
       " {'char': 'æ', 'value': 28},\n",
       " {'char': '!', 'value': 201},\n",
       " {'char': '“', 'value': 506},\n",
       " {'char': '”', 'value': 316},\n",
       " {'char': '9', 'value': 9},\n",
       " {'char': 'ë', 'value': 2},\n",
       " {'char': '‘', 'value': 43},\n",
       " {'char': 'â', 'value': 8},\n",
       " {'char': 'ê', 'value': 7},\n",
       " {'char': 'ô', 'value': 1},\n",
       " {'char': '™', 'value': 57},\n",
       " {'char': '•', 'value': 4},\n",
       " {'char': '%', 'value': 1},\n",
       " {'char': '$', 'value': 2}]"
      ]
     },
     "execution_count": 15,
     "metadata": {},
     "output_type": "execute_result"
    }
   ],
   "source": [
    "all_chars_list2"
   ]
  },
  {
   "cell_type": "code",
   "execution_count": 16,
   "id": "4ab76b40",
   "metadata": {},
   "outputs": [
    {
     "data": {
      "text/plain": [
       "44538"
      ]
     },
     "execution_count": 16,
     "metadata": {},
     "output_type": "execute_result"
    }
   ],
   "source": [
    "all_chars_list2[2][\"value\"]"
   ]
  },
  {
   "cell_type": "code",
   "execution_count": 17,
   "id": "7508518f",
   "metadata": {},
   "outputs": [],
   "source": [
    "from stats import organize_charec\n",
    "\n",
    "all_chars_list3 = organize_charec(all_chars_dict)"
   ]
  },
  {
   "cell_type": "code",
   "execution_count": 18,
   "id": "7e89909e",
   "metadata": {},
   "outputs": [
    {
     "data": {
      "text/plain": [
       "[{'char': ' ', 'value': 70480},\n",
       " {'char': 'e', 'value': 44538},\n",
       " {'char': 't', 'value': 29493},\n",
       " {'char': 'a', 'value': 25894},\n",
       " {'char': 'o', 'value': 24494},\n",
       " {'char': 'i', 'value': 23927},\n",
       " {'char': 'n', 'value': 23643},\n",
       " {'char': 's', 'value': 20360},\n",
       " {'char': 'r', 'value': 20079},\n",
       " {'char': 'h', 'value': 19176},\n",
       " {'char': 'd', 'value': 16318},\n",
       " {'char': 'l', 'value': 12306},\n",
       " {'char': 'm', 'value': 10206},\n",
       " {'char': 'u', 'value': 10111},\n",
       " {'char': 'c', 'value': 9011},\n",
       " {'char': 'f', 'value': 8451},\n",
       " {'char': 'y', 'value': 7756},\n",
       " {'char': '\\n', 'value': 7630},\n",
       " {'char': 'w', 'value': 7450},\n",
       " {'char': ',', 'value': 5962},\n",
       " {'char': 'p', 'value': 5952},\n",
       " {'char': 'g', 'value': 5795},\n",
       " {'char': 'b', 'value': 4868},\n",
       " {'char': 'v', 'value': 3737},\n",
       " {'char': '.', 'value': 3121},\n",
       " {'char': 'k', 'value': 1661},\n",
       " {'char': ';', 'value': 1350},\n",
       " {'char': 'x', 'value': 691},\n",
       " {'char': '“', 'value': 506},\n",
       " {'char': 'j', 'value': 497},\n",
       " {'char': 'q', 'value': 325},\n",
       " {'char': '”', 'value': 316},\n",
       " {'char': 'z', 'value': 235},\n",
       " {'char': ':', 'value': 211},\n",
       " {'char': '?', 'value': 208},\n",
       " {'char': '!', 'value': 201},\n",
       " {'char': '-', 'value': 173},\n",
       " {'char': '’', 'value': 144},\n",
       " {'char': '_', 'value': 124},\n",
       " {'char': '—', 'value': 123},\n",
       " {'char': '*', 'value': 97},\n",
       " {'char': '1', 'value': 91},\n",
       " {'char': '™', 'value': 57},\n",
       " {'char': '‘', 'value': 43},\n",
       " {'char': '(', 'value': 35},\n",
       " {'char': ')', 'value': 35},\n",
       " {'char': 'æ', 'value': 28},\n",
       " {'char': '8', 'value': 24},\n",
       " {'char': '2', 'value': 19},\n",
       " {'char': '0', 'value': 18},\n",
       " {'char': '7', 'value': 18},\n",
       " {'char': '3', 'value': 15},\n",
       " {'char': '4', 'value': 12},\n",
       " {'char': '5', 'value': 12},\n",
       " {'char': '6', 'value': 9},\n",
       " {'char': '9', 'value': 9},\n",
       " {'char': '/', 'value': 8},\n",
       " {'char': 'â', 'value': 8},\n",
       " {'char': 'ê', 'value': 7},\n",
       " {'char': '&', 'value': 5},\n",
       " {'char': '•', 'value': 4},\n",
       " {'char': '[', 'value': 2},\n",
       " {'char': ']', 'value': 2},\n",
       " {'char': 'ë', 'value': 2},\n",
       " {'char': '$', 'value': 2},\n",
       " {'char': '#', 'value': 1},\n",
       " {'char': 'ô', 'value': 1},\n",
       " {'char': '%', 'value': 1}]"
      ]
     },
     "execution_count": 18,
     "metadata": {},
     "output_type": "execute_result"
    }
   ],
   "source": [
    "all_chars_list3"
   ]
  },
  {
   "cell_type": "code",
   "execution_count": 22,
   "id": "2f8e5836",
   "metadata": {},
   "outputs": [
    {
     "name": "stdout",
     "output_type": "stream",
     "text": [
      "e: 44538\n",
      "t: 29493\n",
      "a: 25894\n",
      "o: 24494\n",
      "i: 23927\n",
      "n: 23643\n",
      "s: 20360\n",
      "r: 20079\n",
      "h: 19176\n",
      "d: 16318\n",
      "l: 12306\n",
      "m: 10206\n",
      "u: 10111\n",
      "c: 9011\n",
      "f: 8451\n",
      "y: 7756\n",
      "w: 7450\n",
      "p: 5952\n",
      "g: 5795\n",
      "b: 4868\n",
      "v: 3737\n",
      "k: 1661\n",
      "x: 691\n",
      "j: 497\n",
      "q: 325\n",
      "z: 235\n",
      "æ: 28\n",
      "â: 8\n",
      "ê: 7\n",
      "ë: 2\n",
      "ô: 1\n"
     ]
    }
   ],
   "source": [
    "\n",
    "for charec in all_chars_list3:\n",
    "    if charec[\"char\"].isalpha():\n",
    "        print(f\"{charec[\"char\"]}: {charec[\"value\"]}\")"
   ]
  },
  {
   "cell_type": "code",
   "execution_count": null,
   "id": "a9fb0c6f",
   "metadata": {},
   "outputs": [],
   "source": []
  }
 ],
 "metadata": {
  "kernelspec": {
   "display_name": "base",
   "language": "python",
   "name": "python3"
  },
  "language_info": {
   "codemirror_mode": {
    "name": "ipython",
    "version": 3
   },
   "file_extension": ".py",
   "mimetype": "text/x-python",
   "name": "python",
   "nbconvert_exporter": "python",
   "pygments_lexer": "ipython3",
   "version": "3.12.7"
  }
 },
 "nbformat": 4,
 "nbformat_minor": 5
}
